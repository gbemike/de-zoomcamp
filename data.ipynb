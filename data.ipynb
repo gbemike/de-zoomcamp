{
 "cells": [
  {
   "cell_type": "code",
   "execution_count": 1,
   "metadata": {},
   "outputs": [],
   "source": [
    "import pandas as pd"
   ]
  },
  {
   "cell_type": "code",
   "execution_count": 2,
   "metadata": {},
   "outputs": [],
   "source": [
    "df = pd.read_csv(\"green_tripdata_2019-09.csv.gz\", nrows=100)"
   ]
  },
  {
   "cell_type": "code",
   "execution_count": 4,
   "metadata": {},
   "outputs": [
    {
     "name": "stdout",
     "output_type": "stream",
     "text": [
      "<class 'pandas.core.frame.DataFrame'>\n",
      "RangeIndex: 100 entries, 0 to 99\n",
      "Data columns (total 20 columns):\n",
      " #   Column                 Non-Null Count  Dtype  \n",
      "---  ------                 --------------  -----  \n",
      " 0   VendorID               100 non-null    int64  \n",
      " 1   lpep_pickup_datetime   100 non-null    object \n",
      " 2   lpep_dropoff_datetime  100 non-null    object \n",
      " 3   store_and_fwd_flag     100 non-null    object \n",
      " 4   RatecodeID             100 non-null    int64  \n",
      " 5   PULocationID           100 non-null    int64  \n",
      " 6   DOLocationID           100 non-null    int64  \n",
      " 7   passenger_count        100 non-null    int64  \n",
      " 8   trip_distance          100 non-null    float64\n",
      " 9   fare_amount            100 non-null    float64\n",
      " 10  extra                  100 non-null    float64\n",
      " 11  mta_tax                100 non-null    float64\n",
      " 12  tip_amount             100 non-null    float64\n",
      " 13  tolls_amount           100 non-null    float64\n",
      " 14  ehail_fee              0 non-null      float64\n",
      " 15  improvement_surcharge  100 non-null    float64\n",
      " 16  total_amount           100 non-null    float64\n",
      " 17  payment_type           100 non-null    int64  \n",
      " 18  trip_type              100 non-null    int64  \n",
      " 19  congestion_surcharge   100 non-null    float64\n",
      "dtypes: float64(10), int64(7), object(3)\n",
      "memory usage: 15.8+ KB\n"
     ]
    }
   ],
   "source": [
    "df.info()"
   ]
  },
  {
   "cell_type": "code",
   "execution_count": null,
   "metadata": {},
   "outputs": [],
   "source": []
  }
 ],
 "metadata": {
  "kernelspec": {
   "display_name": "base",
   "language": "python",
   "name": "python3"
  },
  "language_info": {
   "codemirror_mode": {
    "name": "ipython",
    "version": 3
   },
   "file_extension": ".py",
   "mimetype": "text/x-python",
   "name": "python",
   "nbconvert_exporter": "python",
   "pygments_lexer": "ipython3",
   "version": "3.11.5"
  }
 },
 "nbformat": 4,
 "nbformat_minor": 2
}
